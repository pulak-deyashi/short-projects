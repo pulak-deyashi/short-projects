{
 "cells": [
  {
   "cell_type": "code",
   "execution_count": 26,
   "metadata": {
    "collapsed": true
   },
   "outputs": [
    {
     "name": "stdout",
     "output_type": "stream",
     "text": [
      "[[0 0 3 0 2 9 0 0 1]\n",
      " [6 0 0 1 0 0 4 0 0]\n",
      " [0 0 8 3 7 0 0 0 0]\n",
      " [9 0 4 0 0 0 0 0 0]\n",
      " [0 6 1 0 0 0 0 5 8]\n",
      " [0 0 0 0 0 2 0 0 0]\n",
      " [0 5 0 0 0 0 0 6 0]\n",
      " [0 0 0 8 6 0 0 4 0]\n",
      " [7 0 0 0 0 0 0 0 0]]\n",
      "[[5 4 3 6 2 9 7 8 1]\n",
      " [6 2 7 1 5 8 4 3 9]\n",
      " [1 9 8 3 7 4 5 2 6]\n",
      " [9 7 4 5 8 6 3 1 2]\n",
      " [2 6 1 4 3 7 9 5 8]\n",
      " [8 3 5 9 1 2 6 7 4]\n",
      " [4 5 2 7 9 1 8 6 3]\n",
      " [3 1 9 8 6 5 2 4 7]\n",
      " [7 8 6 2 4 3 1 9 5]]\n"
     ]
    }
   ],
   "source": [
    "import numpy as np\n",
    "#example grid where blank cells are valued 0\n",
    "grid = [[0, 0, 3, 0, 2, 9, 0, 0, 1], \n",
    "        [6, 0, 0, 1, 0, 0, 4, 0, 0],\n",
    "        [0, 0, 8, 3, 7, 0, 0, 0, 0],\n",
    "        [9, 0, 4, 0, 0, 0, 0, 0, 0],\n",
    "        [0, 6, 1, 0, 0, 0, 0, 5, 8],\n",
    "        [0, 0, 0, 0, 0, 2, 0, 0, 0],\n",
    "        [0, 5, 0, 0, 0, 0, 0, 6, 0],\n",
    "        [0, 0, 0, 8, 6, 0, 0, 4, 0],\n",
    "        [7, 0, 0, 0, 0, 0, 0, 0, 0]]\n",
    "#to see the grid in a ordered way\n",
    "#print(np.matrix(grid))\n",
    "def possiblity(x, y, n):\n",
    "    #declaring grid as global \n",
    "    global grid\n",
    "    for i in range(9):\n",
    "        if (grid[i][y] == n):\n",
    "            return False\n",
    "    for i in range(9):\n",
    "        if (grid[x][i] == n):\n",
    "            return False\n",
    "    x0 = (x // 3) * 3\n",
    "    y0 = (y // 3) * 3\n",
    "    for i in range(3):\n",
    "        for j in range(3):\n",
    "            if (grid[x0 + i][y0 + j] == n):\n",
    "                return False\n",
    "    return True\n",
    "def solver():\n",
    "    global grid\n",
    "    for i in range(9):\n",
    "        for j in range(9):\n",
    "            if grid[i][j] == 0:\n",
    "                for l in range(1, 10):\n",
    "                    if possiblity(i, j, l):\n",
    "                        #if possiblity for a number is true then assign the value\n",
    "                        grid[i][j] = l\n",
    "                        #using recursion for sailing through every possiblities\n",
    "                        solver()\n",
    "                        #if no solution found again assign to 0\n",
    "                        grid[i][j] = 0\n",
    "                return \n",
    "    print(np.matrix(grid))\n",
    "solver()\n",
    "        "
   ]
  }
 ],
 "metadata": {
  "kernelspec": {
   "display_name": "Python 3",
   "language": "python",
   "name": "python3"
  },
  "language_info": {
   "codemirror_mode": {
    "name": "ipython",
    "version": 3
   },
   "file_extension": ".py",
   "mimetype": "text/x-python",
   "name": "python",
   "nbconvert_exporter": "python",
   "pygments_lexer": "ipython3",
   "version": "3.7.3"
  }
 },
 "nbformat": 4,
 "nbformat_minor": 2
}
