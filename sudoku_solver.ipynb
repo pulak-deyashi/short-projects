import numpy as np
grid = [[0, 0, 3, 0, 2, 9, 0, 0, 1], 
        [6, 0, 0, 1, 0, 0, 4, 0, 0],
        [0, 0, 8, 3, 7, 0, 0, 0, 0],
        [9, 0, 4, 0, 0, 0, 0, 0, 0],
        [0, 6, 1, 0, 0, 0, 0, 5, 8],
        [0, 0, 0, 0, 0, 2, 0, 0, 0],
        [0, 5, 0, 0, 0, 0, 0, 6, 0],
        [0, 0, 0, 8, 6, 0, 0, 4, 0],
        [7, 0, 0, 0, 0, 0, 0, 0, 0]]
print(np.matrix(grid))
def possiblity(x, y, n):
    global grid
    for i in range(9):
        if (grid[i][y] == n):
            return False
    for i in range(9):
        if (grid[x][i] == n):
            return False
    x0 = (x // 3) * 3
    y0 = (y // 3) * 3
    for i in range(3):
        for j in range(3):
            if (grid[x0 + i][y0 + j] == n):
                return False
    return True
def solver():
    global grid
    for i in range(9):
        for j in range(9):
            if grid[i][j] == 0:
                for l in range(1, 10):
                    if possiblity(i, j, l):
                        grid[i][j] = l
                        solver()
                        grid[i][j] = 0
                return 
    print(np.matrix(grid))
solver()
        
